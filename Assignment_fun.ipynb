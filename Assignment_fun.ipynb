{
 "cells": [
  {
   "cell_type": "markdown",
   "id": "f1fb46db",
   "metadata": {},
   "source": [
    "Reduce:-\n",
    "1. What is the `reduce()` function in Python, and what module should you import to use it? Provide an example of its basic usage.\n",
    "2. Write a Python program that uses the `reduce()` function to find the product of all elements in a list.\n",
    "3. Create a Python program that uses `reduce()` to find the maximum element in a list of numbers.\n",
    "4. How can you use the `reduce()` function to concatenate a list of strings into a single string?\n",
    "5. Write a Python program that calculates the factorial of a number using the `reduce()` function.\n",
    "6. Create a Python program that uses `reduce()` to find the GCD (Greatest Common Divisor) of a list of numbers.\n",
    "7. Write a Python program that uses the `reduce()` function to find the sum of the digits of a given number.\"\"\""
   ]
  },
  {
   "cell_type": "markdown",
   "id": "afff8fbc",
   "metadata": {},
   "source": [
    "##### 1. What is the `reduce()` function in Python, and what module should you import to use it? Provide an example of its basic usage.\n",
    "reduce() is used for obtaining a single element / result from given iterable object by applying to a function.\n",
    "Syntax:-varname=functools.reduce(function-name,iterable-object)\n",
    "here varname is an object of int, float,bool,complex,str only\n",
    "The reduce() belongs to a pre-defined module called\" functools\"."
   ]
  },
  {
   "cell_type": "code",
   "execution_count": 2,
   "id": "e329c914",
   "metadata": {},
   "outputs": [
    {
     "name": "stdout",
     "output_type": "stream",
     "text": [
      "150\n"
     ]
    }
   ],
   "source": [
    "import functools as fc\n",
    "lst=[10,20,30,40,50]\n",
    "res=fc.reduce(lambda x,y:x+y,lst)\n",
    "print(res)"
   ]
  },
  {
   "cell_type": "code",
   "execution_count": 4,
   "id": "8eaf37d1",
   "metadata": {},
   "outputs": [
    {
     "name": "stdout",
     "output_type": "stream",
     "text": [
      "120\n"
     ]
    }
   ],
   "source": [
    "#2. Write a Python program that uses the `reduce()` function to find the product of all elements in a list.\n",
    "lst1=[1,2,3,4,5]\n",
    "res1=fc.reduce(lambda x,y:x*y,lst1)\n",
    "print(res1)"
   ]
  },
  {
   "cell_type": "code",
   "execution_count": 8,
   "id": "05c075e1",
   "metadata": {},
   "outputs": [
    {
     "name": "stdout",
     "output_type": "stream",
     "text": [
      "899\n"
     ]
    }
   ],
   "source": [
    "#3.Create a Python program that uses `reduce()` to find the maximum element in a list of numbers.\n",
    "lst2=[1,90,21,223,899,21,0,-1,23]\n",
    "res2 = fc.reduce(lambda x,y: x if x>y else y,lst2)\n",
    "print(res2)"
   ]
  },
  {
   "cell_type": "code",
   "execution_count": 11,
   "id": "e41bc833",
   "metadata": {},
   "outputs": [
    {
     "name": "stdout",
     "output_type": "stream",
     "text": [
      "LalitGaneshBorase <class 'str'>\n"
     ]
    }
   ],
   "source": [
    "#4. How can you use the `reduce()` function to concatenate a list of strings into a single string?\n",
    "str1=[\"Lalit\",\"Ganesh\",\"Borase\"]\n",
    "res3=fc.reduce(lambda x,y:x+y,str1)\n",
    "print(res3,type(res3))"
   ]
  },
  {
   "cell_type": "code",
   "execution_count": 4,
   "id": "0e49bea6",
   "metadata": {},
   "outputs": [
    {
     "name": "stdout",
     "output_type": "stream",
     "text": [
      "Enter a Any Number5\n",
      "Factorial of a Num:5 is:- 120\n"
     ]
    }
   ],
   "source": [
    "#5.Write a Python program that calculates the factorial of a number using the `reduce()` function.\n",
    "n = int(input(\"Enter a Any Number\"))\n",
    "a = [i for i in range(1,n+1)]\n",
    "res4=fc.reduce(lambda x,y:x*y,a)\n",
    "print(f\"Factorial of a Num:{n} is:-\",res4)"
   ]
  },
  {
   "cell_type": "code",
   "execution_count": 12,
   "id": "3ee340a8",
   "metadata": {},
   "outputs": [
    {
     "name": "stdout",
     "output_type": "stream",
     "text": [
      "The GCD of the numbers[52, 48, 90] is 2\n"
     ]
    }
   ],
   "source": [
    "#6. Create a Python program that uses `reduce()` to find the GCD (Greatest Common Divisor) of a list of numbers\n",
    "def gcd(a,b):\n",
    "    while b:\n",
    "        a,b = b,a%b\n",
    "    return a\n",
    "nums = [52,48,90]\n",
    "res6 = fc.reduce(lambda a,b: a if b ==0 else gcd(b,a%b),nums)\n",
    "print(\"The GCD of the numbers{} is {}\".format(nums,res6))"
   ]
  },
  {
   "cell_type": "code",
   "execution_count": 6,
   "id": "f02f2637",
   "metadata": {},
   "outputs": [
    {
     "name": "stdout",
     "output_type": "stream",
     "text": [
      "Enter a any Number:-9876\n",
      "30\n"
     ]
    }
   ],
   "source": [
    "#7. Write a Python program that uses the `reduce()` function to find the sum of the digits of a given number\n",
    "n1 = input(\"Enter a any Number:-\")\n",
    "res5 = fc.reduce(lambda x,y:int(x)+int(y),n1)\n",
    "print(res5)"
   ]
  },
  {
   "cell_type": "markdown",
   "id": "4edd5036",
   "metadata": {},
   "source": [
    "\"\"\"#Map():-\n",
    "1. Explain the purpose of the `map()` function in Python and provide an example of how it can be used to apply a function to each element of an iterable.\n",
    "2. Write a Python program that uses the `map()` function to square each element of a list of numbers.\n",
    "3. How does the `map()` function differ from a list comprehension in Python, and when would you choose one over the other?\n",
    "4. Create a Python program that uses the `map()` function to convert a list of names to uppercase.\n",
    "5. Write a Python program that uses the `map()` function to calculate the length of each word in a list of strings.\n",
    "6. How can you use the `map()` function to apply a custom function to elements of multiple lists simultaneously in Python?\n",
    "7. Create a Python program that uses `map()` to convert a list of temperatures from Celsius to Fahrenheit.\n",
    "8. Write a Python program that uses the `map()` function to round each element of a list of floating-point numbers to the nearest integer.\n",
    "\"\"\""
   ]
  },
  {
   "cell_type": "markdown",
   "id": "ab115799",
   "metadata": {},
   "source": [
    "1. Explain the purpose of the `map()` function in Python and provide an example of how it can be used to apply a function to each element of an iterable.\n",
    "map() is used for obtaining new Iterable object from existing iterable object by applying old iterable elements to the function.\n",
    "=>In otherwords, map() is used for obtaining new list of elements  from existing existing list of elements by applying old list  elements to the function.\n",
    "\n",
    "=>Syntax:-      varname=map(FunctionName,Iterable_object)\n",
    "\n",
    "=>here 'varname' is an object of type <class,map'> and we can convert into any iteratable object by using type casting functions.\n",
    "=>\"FunctionName\" represents either Normal function or anonymous functions.\n",
    "=>\"Iterable_object\" represents Sequence, List, set and dict types.\n",
    "=>The execution process of map() is that \" map() sends every element of iterable object to the specified function, process it and returns the modified value (result) and new list of elements will be obtained\". This process will be continued until all elements of Iterable_object completed."
   ]
  },
  {
   "cell_type": "code",
   "execution_count": 16,
   "id": "94b5e15b",
   "metadata": {},
   "outputs": [
    {
     "name": "stdout",
     "output_type": "stream",
     "text": [
      "[1, 4, 9, 16, 25]\n"
     ]
    }
   ],
   "source": [
    "#2. Write a Python program that uses the `map()` function to square each element of a list of numbers.\n",
    "l1=[1,2,3,4,5]\n",
    "res1=list(map(lambda x:x*x,l1))\n",
    "#result_list=list(res1)\n",
    "print(res1)"
   ]
  },
  {
   "cell_type": "markdown",
   "id": "74d247b5",
   "metadata": {},
   "source": [
    "3. How does the `map()` function differ from a list comprehension in Python, and when would you choose one over the other?\n",
    "In Python the map() function and list comprehensions are both used to generate new list by applying a function to\n",
    "each element of an existing iterable(like a list or tuple).However, they have some differences in terms\n",
    "of readability,flexibility,and us cases.\n",
    "map() function:\n",
    "Usage:map() takes a function and an iterable as input and it applies the function to eac item in the iterable,\n",
    "returning a map object.\n",
    "Syntax:-map(function,iterable)\n",
    "\n",
    "List Comprehension:-\n",
    "List Comprehension provide a more concise and readable way to create lists based on existing lists.\n",
    "Syntax:[expression for item in iterable if condition]"
   ]
  },
  {
   "cell_type": "code",
   "execution_count": 3,
   "id": "bd44ecea",
   "metadata": {},
   "outputs": [
    {
     "data": {
      "text/plain": [
       "['APPLE', 'BANANA', 'CHERRY']"
      ]
     },
     "execution_count": 3,
     "metadata": {},
     "output_type": "execute_result"
    }
   ],
   "source": [
    "#4.Create a Python program that uses the `map()` function to convert a list of names to uppercase.\n",
    "lst1=[\"apple\",\"banana\",\"cherry\"]\n",
    "res1=list(map(lambda x:x.upper(),lst1))\n",
    "res1"
   ]
  },
  {
   "cell_type": "code",
   "execution_count": 8,
   "id": "950674a8",
   "metadata": {},
   "outputs": [
    {
     "name": "stdout",
     "output_type": "stream",
     "text": [
      "['apple', 'banana', 'cherry']\n",
      "The length of The elements in list are:- [5, 6, 6]\n"
     ]
    }
   ],
   "source": [
    "#5. Write a Python program that uses the `map()` function to calculate the length of each word in a list of strings.\n",
    "res2=list(map(lambda x:len(x),lst1))\n",
    "print(lst1)\n",
    "print(\"The length of The elements in list are:-\",res2)\n"
   ]
  },
  {
   "cell_type": "code",
   "execution_count": 11,
   "id": "9c6f00b6",
   "metadata": {},
   "outputs": [
    {
     "name": "stdout",
     "output_type": "stream",
     "text": [
      "[11, 22, 33, 44, 55]\n"
     ]
    }
   ],
   "source": [
    "# 6.How can you use the `map()` function to apply a custom function to elements of multiple lists simultaneously in Python?\n",
    "list1 = [1,2,3,4,5]\n",
    "list2=[10,20,30,40,50]\n",
    "res3=list(map(lambda x,y:x+y,list1,list2))\n",
    "print(res3)"
   ]
  },
  {
   "cell_type": "code",
   "execution_count": 12,
   "id": "a724a388",
   "metadata": {},
   "outputs": [
    {
     "name": "stdout",
     "output_type": "stream",
     "text": [
      "[32.0, 91.4, 80.6, 78.8, 53.6, 51.8, 132.8, 109.4]\n"
     ]
    }
   ],
   "source": [
    "#7.Create a Python program that uses `map()` to convert a list of temperatures from Celsius to Fahrenheit.\n",
    "tempin_cel=[0,33,27,26,12,11,56,43]\n",
    "res4=list(map(lambda x:((x*9/5)+32),tempin_cel))\n",
    "print(res4)"
   ]
  },
  {
   "cell_type": "code",
   "execution_count": 14,
   "id": "f1426734",
   "metadata": {},
   "outputs": [
    {
     "name": "stdout",
     "output_type": "stream",
     "text": [
      "[12, 90, 78, 15, 3]\n"
     ]
    }
   ],
   "source": [
    "#8. Write a Python program that uses the `map()` function to round each element of a list of floating-point numbers to the nearest integer.\n",
    "float_num = [12.21,90.00,78.34,14.89,3.14]\n",
    "res5 = list(map(lambda x:round(x),float_num))\n",
    "print(res5)"
   ]
  },
  {
   "cell_type": "markdown",
   "id": "1bbaefab",
   "metadata": {},
   "source": [
    "##### Filter:-\n",
    "1. Explain the purpose of the `filter()` function in Python and provide an example of how it can be used to filter elements from an iterable.\n",
    "2. Write a Python program that uses the `filter()` function to select even numbers from a list of integers.\n",
    "3. Create a Python program that uses the `filter()` function to select names that start with a specific letter from a list of strings.\n",
    "4. Write a Python program that uses the `filter()` function to select prime numbers from a list of integers.\n",
    "5. How can you use the `filter()` function to remove None values from a list in Python?\n",
    "6. Create a Python program that uses `filter()` to select words longer than a certain length from a list of strings.\n",
    "7. Write a Python program that uses the `filter()` function to select elements greater than a specified threshold from a list of values.\n"
   ]
  },
  {
   "cell_type": "markdown",
   "id": "4409816f",
   "metadata": {},
   "source": [
    "Explain the purpose of the filter() function in Python and provide an example of how it can be used to filter elements from an iterable.\n",
    "=>filter() is used for  \"Filtering out some elements from list of elements by applying to function\".\n",
    "=>Syntax:-        varname=filter(FunctionName, Iterable_object)\n",
    "\n",
    "---------------------\n",
    "Explanation:\n",
    "---------------------\n",
    "=>here 'varname' is an object of type <class,'filter'> and we can convert into any iteratable object by using type casting functions.\n",
    "=>\"FunctionName\" represents either Normal function or anonymous functions.\n",
    "=>\"Iterable_object\" represents Sequence, List, set and dict types.\n",
    "=>The execution process of filter() is that  \" Each Value of Iterable object sends to Function Name. If the function return True then the element will be filtered. if the Function returns False then that element will be neglected/not filtered \". This process will be continued until all elements of Iterable object completed."
   ]
  },
  {
   "cell_type": "code",
   "execution_count": 15,
   "id": "b9fbfca6",
   "metadata": {},
   "outputs": [
    {
     "name": "stdout",
     "output_type": "stream",
     "text": [
      "Given Elements=(21, 34, 2, 56, 33, 67, 61, 3, 7, 8, 12)\n",
      "Even Elements:[34, 2, 56, 8, 12]\n"
     ]
    }
   ],
   "source": [
    "#2. Write a Python program that uses the `filter()` function to select even numbers from a list of integers.\n",
    "tpl=(21,34,2,56,33,67,61,3,7,8,12)\n",
    "evenlist=list(filter(lambda x:x%2==0,tpl))\n",
    "print(\"Given Elements={}\".format(tpl))\n",
    "print(\"Even Elements:{}\".format(evenlist))"
   ]
  },
  {
   "cell_type": "code",
   "execution_count": 17,
   "id": "2ed98eac",
   "metadata": {},
   "outputs": [
    {
     "name": "stdout",
     "output_type": "stream",
     "text": [
      "We want all elements in list which is starting from 'L' or 'l' \n",
      "['Lalit', 'lokesh']\n"
     ]
    }
   ],
   "source": [
    "#3.Create a Python program that uses the filter() function to select names that start with a specific letter from a list of strings.\n",
    "list1=['Lalit',\"lokesh\",\"gaurav\",\"Nachiket\",\"Siddhu\",\"abhay\",\"Anirudh\",\"Mayur\",\"manali\"]\n",
    "print(\"We want all elements in list which is starting from 'L' or 'l' \")\n",
    "res5=list(filter(lambda x:x.startswith('L') or x.startswith('l'),list1))\n",
    "print(res5)"
   ]
  },
  {
   "cell_type": "code",
   "execution_count": 19,
   "id": "d3d3422e",
   "metadata": {},
   "outputs": [
    {
     "name": "stdout",
     "output_type": "stream",
     "text": [
      "[2, 3, 5, 7, 11, 13, 17, 19]\n"
     ]
    }
   ],
   "source": [
    "#4.Write a Python program that uses the filter() function to select prime numbers from a list of integers.\n",
    "nums = [i for i in range(1,21)]\n",
    "list_of_prime = list(filter(lambda x: x>1 and all(x%i != 0 for i in range(2,int(x**0.5)+1)),nums))\n",
    "print(list_of_prime)"
   ]
  },
  {
   "cell_type": "code",
   "execution_count": 25,
   "id": "00a8a9c9",
   "metadata": {},
   "outputs": [
    {
     "name": "stdout",
     "output_type": "stream",
     "text": [
      "['lalit', 'harshal', 'mayur', 10, 90, 34.9, 'Svkm', (9+3j)]\n"
     ]
    }
   ],
   "source": [
    "#5.How can you use the filter() function to remove None values from a list in Python?\n",
    "list1=[\"lalit\",\"harshal\",\"mayur\",None,10,90,34.9,None,'Svkm',9+3j]\n",
    "res1 = list(filter(lambda x:x is not None,list1))\n",
    "print(res1)"
   ]
  },
  {
   "cell_type": "code",
   "execution_count": 27,
   "id": "5bd2753d",
   "metadata": {},
   "outputs": [
    {
     "name": "stdout",
     "output_type": "stream",
     "text": [
      "['jayshreeram', 'Jayesh', 'borase', 'ganesh']\n"
     ]
    }
   ],
   "source": [
    "#6.Create a Python program that uses filter() to select words longer than a certain length from a list of strings.\n",
    "list1=[\"jayshreeram\",\"svkm\",\"lalit\",\"Jayesh\",\"hi\",\"take\",\"jay\",\"borase\",\"ganesh\"]\n",
    "#consider the lenght is 5\n",
    "length = 5\n",
    "res6 = list(filter(lambda x:len(x)>5,list1))\n",
    "print(res6)"
   ]
  },
  {
   "cell_type": "code",
   "execution_count": 29,
   "id": "ecb25634",
   "metadata": {},
   "outputs": [
    {
     "name": "stdout",
     "output_type": "stream",
     "text": [
      "['jayshreeram', 'lalit', 'Jayesh', 'borase', 'ganesh']\n"
     ]
    }
   ],
   "source": [
    "#7.Write a Python program that uses the filter() function to select elements greater than a specified threshold from a list of values.\n",
    "threshold_len = 4\n",
    "res7 = list(filter(lambda x:len(x) > threshold_len,list1))\n",
    "print(res7)"
   ]
  },
  {
   "cell_type": "code",
   "execution_count": null,
   "id": "718d58ee",
   "metadata": {},
   "outputs": [],
   "source": []
  },
  {
   "cell_type": "markdown",
   "id": "d1bc88a8",
   "metadata": {},
   "source": [
    "Recursion:-\n",
    "\n",
    "\n",
    "1. Explain the concept of recursion in Python. How does it differ from iteration?\n",
    "2. Write a Python program to calculate the factorial of a number using recursion.\n",
    "3. Create a recursive Python function to find the nth Fibonacci number.\n",
    "4. Write a recursive Python function to calculate the sum of all elements in a list.\n",
    "5. How can you prevent a recursive function from running indefinitely, causing a stack overflow error?\n",
    "6. Create a recursive Python function to find the greatest common divisor (GCD) of two numbers using the Euclidean algorithm.\n",
    "7. Write a recursive Python function to reverse a string.\n",
    "8. Create a recursive Python function to calculate the power of a number (x^n).\n",
    "9. Write a recursive Python function to find all permutations of a given string.\n",
    "10. Write a recursive Python function to check if a string is a palindrome.\n",
    "11. Create a recursive Python function to generate all possible combinations of a list of elements.\n"
   ]
  },
  {
   "cell_type": "markdown",
   "id": "50c3a111",
   "metadata": {},
   "source": [
    "#1.Explain the concept of recursion in Python. How does it differ from iteration?\n",
    "Recursion and iteration are two common programming concepts used to solve repetitive tasks,but they achieve\n",
    "this in different ways.\n",
    "Recursion:-Recursion is a technique where a function calls itself to solve small instances of the same problem\n",
    "until it reaches a base condition , which is the simples form of the problem.\n",
    "Iteration:-Iteration involves using loop structures(like 'for' or 'while' loops) to repeatedly execute a set of \n",
    "instructions until a certain condition is met.\n",
    "\n",
    "Difference:-\n",
    "1.Recursion requires a base case to terminate the recursive calls, while iteration relies on a comdition\n",
    "within the loop.\n",
    "2.Recursion more memory due to maintaining a call stack for each recursive call while iteration typically\n",
    "uses a common memory but takes more time\n",
    "3.Recursion can be more elegant and expressive for certain problems, espciall those that naturally exhibit a recursive\n",
    "structure(like traversal).Iteration is straightforward for many tasks and often the preferred choice for simple code\n",
    "    "
   ]
  },
  {
   "cell_type": "code",
   "execution_count": 33,
   "id": "651b1f9e",
   "metadata": {},
   "outputs": [
    {
     "data": {
      "text/plain": [
       "120"
      ]
     },
     "execution_count": 33,
     "metadata": {},
     "output_type": "execute_result"
    }
   ],
   "source": [
    "#2. Write a Python program to calculate the factorial of a number using recursion.\n",
    "def fact(n):\n",
    "    if n == 0:\n",
    "        return 1\n",
    "    return n * fact(n-1)\n",
    "\n",
    "fact(5)"
   ]
  },
  {
   "cell_type": "code",
   "execution_count": 1,
   "id": "121a1a13",
   "metadata": {},
   "outputs": [
    {
     "data": {
      "text/plain": [
       "34"
      ]
     },
     "execution_count": 1,
     "metadata": {},
     "output_type": "execute_result"
    }
   ],
   "source": [
    "#3. Create a recursive Python function to find the nth Fibonacci number.\n",
    "def fib(n):\n",
    "    if n<=1:\n",
    "        return 1\n",
    "    return fib(n-1) + fib(n-2)\n",
    "fib(8)"
   ]
  },
  {
   "cell_type": "code",
   "execution_count": 23,
   "id": "219e647a",
   "metadata": {},
   "outputs": [
    {
     "data": {
      "text/plain": [
       "250"
      ]
     },
     "execution_count": 23,
     "metadata": {},
     "output_type": "execute_result"
    }
   ],
   "source": [
    "#4. Write a recursive Python function to calculate the sum of all elements in a list.\n",
    "def sum_of_element(l1,i):\n",
    "    if len(l1) == 1:\n",
    "        return l1[-1]\n",
    "    return l1[i] + sum_of_element(l1[i+1:],0+i)\n",
    "sum_of_element([101,20,30,84,15],0)"
   ]
  },
  {
   "cell_type": "code",
   "execution_count": null,
   "id": "a22b32b6",
   "metadata": {},
   "outputs": [],
   "source": [
    "#5.How can you prevent a recursive function from running indefinitely, causing a stack overflow error?\n",
    "1.Base Case:Ensure a base case to stop recursion\n",
    "2.Progress: Make sure each recursive call gets closer to the base case\n",
    "3.Debugging:Test and debug to prevent infinite loops"
   ]
  },
  {
   "cell_type": "code",
   "execution_count": 27,
   "id": "1af1ad0c",
   "metadata": {},
   "outputs": [
    {
     "data": {
      "text/plain": [
       "6"
      ]
     },
     "execution_count": 27,
     "metadata": {},
     "output_type": "execute_result"
    }
   ],
   "source": [
    "#6.Create a recursive Python function to find the greatest common divisor (GCD) of two numbers using the Euclidean algorithm.\n",
    "def gcd_rec(a,b):\n",
    "    if b == 0:\n",
    "        return a\n",
    "    else:\n",
    "        return gcd_rec(b,a%b)\n",
    "gcd_rec(48,18)\n"
   ]
  },
  {
   "cell_type": "code",
   "execution_count": 36,
   "id": "da82ee7c",
   "metadata": {},
   "outputs": [
    {
     "name": "stdout",
     "output_type": "stream",
     "text": [
      "tilal\n"
     ]
    }
   ],
   "source": [
    "#7. Write a recursive Python function to reverse a string.\n",
    "def reverse(str1):\n",
    "    if len(str1) == 0:\n",
    "        return \"\"\n",
    "    return str1[-1] + reverse(str1[:-1])\n",
    "\n",
    "result = reverse(\"lalit\")\n",
    "print(result)  \n"
   ]
  },
  {
   "cell_type": "code",
   "execution_count": 47,
   "id": "ffa5dc35",
   "metadata": {},
   "outputs": [
    {
     "data": {
      "text/plain": [
       "32"
      ]
     },
     "execution_count": 47,
     "metadata": {},
     "output_type": "execute_result"
    }
   ],
   "source": [
    "#8. Create a recursive Python function to calculate the power of a number (x^n).\n",
    "def power(x,n):\n",
    "    if n==0:\n",
    "        return 1\n",
    "    return x * power(x,n-1)\n",
    "power(2,5)"
   ]
  },
  {
   "cell_type": "code",
   "execution_count": null,
   "id": "8dcb092c",
   "metadata": {},
   "outputs": [],
   "source": [
    "#9.Write a recursive Python function to find all permutations of a given string.\n",
    "def permute(char_arr,left,right):\n",
    "    #Base condition\n",
    "    if left == right:\n",
    "        print(\"\".join(char_arr))\n",
    "        return\n",
    "    else:\n",
    "        for i in range(left,right+1):#takes care of each charachter one after another\n",
    "            char_arr[left],char_arr[i] = char_arr[i],char_arr[left]\n",
    "            permute(char_arr,left+1,right)\n",
    "            char_arr[left],char_arr[i] = char_arr[i],char_arr[left] #Go to the previous stage Backtraking\n",
    "permute(list(\"ABC\"),0,2)"
   ]
  },
  {
   "cell_type": "code",
   "execution_count": 50,
   "id": "a5e8e93a",
   "metadata": {},
   "outputs": [
    {
     "data": {
      "text/plain": [
       "False"
      ]
     },
     "execution_count": 50,
     "metadata": {},
     "output_type": "execute_result"
    }
   ],
   "source": [
    "#10. Write a recursive Python function to check if a string is a palindrome.\n",
    "def palindrome(str1):\n",
    "    if len(str1)<=1:\n",
    "        return True\n",
    "    if str1[-1] != str1[0]:\n",
    "        return False\n",
    "    return palindrome(str1[1:-1])\n",
    "palindrome(\"aradar\")"
   ]
  },
  {
   "cell_type": "code",
   "execution_count": 1,
   "id": "20188b9a",
   "metadata": {},
   "outputs": [
    {
     "name": "stdout",
     "output_type": "stream",
     "text": [
      "[1, 2, 3]\n",
      "[1, 2]\n",
      "[1, 3]\n",
      "[1]\n",
      "[2, 3]\n",
      "[2]\n",
      "[3]\n",
      "[]\n"
     ]
    }
   ],
   "source": [
    "#11.Create a recursive Python function to generate all possible combinations of a list of elements.\n",
    "def combinations(arr):\n",
    "    result = []\n",
    "\n",
    "    # Recursive helper function\n",
    "    def generate_combinations(curr_combination, remaining_elements):\n",
    "        if not remaining_elements:\n",
    "            result.append(curr_combination)\n",
    "            return\n",
    "\n",
    "        # Include current element and recurse\n",
    "        generate_combinations(curr_combination + [remaining_elements[0]], remaining_elements[1:])\n",
    "        \n",
    "        # Exclude current element and recurse\n",
    "        generate_combinations(curr_combination, remaining_elements[1:])\n",
    "\n",
    "    generate_combinations([], arr)\n",
    "    return result\n",
    "\n",
    "# Test the function\n",
    "elements = [1, 2, 3]\n",
    "all_combinations = combinations(elements)\n",
    "for combo in all_combinations:\n",
    "    print(combo)\n"
   ]
  },
  {
   "cell_type": "code",
   "execution_count": null,
   "id": "a9a32606",
   "metadata": {},
   "outputs": [],
   "source": []
  }
 ],
 "metadata": {
  "kernelspec": {
   "display_name": "Python 3 (ipykernel)",
   "language": "python",
   "name": "python3"
  },
  "language_info": {
   "codemirror_mode": {
    "name": "ipython",
    "version": 3
   },
   "file_extension": ".py",
   "mimetype": "text/x-python",
   "name": "python",
   "nbconvert_exporter": "python",
   "pygments_lexer": "ipython3",
   "version": "3.11.5"
  }
 },
 "nbformat": 4,
 "nbformat_minor": 5
}
